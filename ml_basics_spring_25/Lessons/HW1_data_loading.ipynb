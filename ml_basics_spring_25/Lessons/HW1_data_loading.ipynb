{
  "nbformat": 4,
  "nbformat_minor": 0,
  "metadata": {
    "colab": {
      "provenance": []
    },
    "kernelspec": {
      "name": "python3",
      "display_name": "Python 3"
    },
    "language_info": {
      "name": "python"
    }
  },
  "cells": [
    {
      "cell_type": "markdown",
      "source": [
        "# HW1"
      ],
      "metadata": {
        "id": "L6Bje6Sm0gRZ"
      }
    },
    {
      "cell_type": "markdown",
      "source": [
        "# **Домашнее задание: Анализ и предобработка датасетов**"
      ],
      "metadata": {
        "id": "znzLbGiA2mxG"
      }
    },
    {
      "cell_type": "markdown",
      "source": [
        "**Цель:**  Научиться работать с разными датасетами, анализировать распределение классов и правильно разделять данные на обучающую и тестовую выборки."
      ],
      "metadata": {
        "id": "_0BHkZhE0kdX"
      }
    },
    {
      "cell_type": "markdown",
      "source": [
        "# Для каждого из предложенных датасетов выполнить следующее:\n",
        "\n"
      ],
      "metadata": {
        "id": "wnmR1Tyi2ykk"
      }
    },
    {
      "cell_type": "markdown",
      "source": [
        "1. **Загрузка данных**\n",
        "\n",
        "    * Загрузить датасет из указанного источника\n",
        "\n",
        "2. **Первичный анализ**\n",
        "\n",
        "    * Просмотреть первые и последние строки (head(), tail())\n",
        "\n",
        "    * Проверить информацию о типах данных (info())\n",
        "\n",
        "    * Проверить статистические характеристики (describe())\n",
        "\n",
        "    * Проверить наличие пропущенных значений\n",
        "\n",
        "3. **Анализ распределения классов**\n",
        "\n",
        "    * Построить график распределения целевой переменной\n",
        "\n",
        "    * Подсчитать количество элементов каждого класса (например, value_counts())\n",
        "\n",
        "    * Оценить, есть ли дисбаланс классов\n",
        "\n",
        "4. **Разделение данных**\n",
        "\n",
        "    * Разделить данные на обучающую и тестовую выборки разными способами\n",
        "\n",
        "    * Обычное разделение (train_test_split) с разными параметрами:\n",
        "\n",
        "    * Стратифицированное разделение (stratify параметр)\n",
        "\n",
        "Разные методы (например, StratifiedShuffleSplit)\n",
        "\n",
        "После каждого разделения проверять распределение классов в новых выборках\n",
        "\n",
        "5. **Выводы**\n",
        "\n",
        "    * Какой способ разделения подходит и почему?\n",
        "\n",
        "    * Нужна ли стратификация для этого датасета?\n",
        "\n",
        "    * Как изменяется дисбаланс при разных способах разделения?"
      ],
      "metadata": {
        "id": "idEvVE2X3pWO"
      }
    },
    {
      "cell_type": "markdown",
      "source": [
        "# Датасеты"
      ],
      "metadata": {
        "id": "FW1IWR9N3rCY"
      }
    },
    {
      "cell_type": "markdown",
      "source": [
        "1. Датасет \"Wine Quality\" (Источник: UCI Machine Learning Repository)\n",
        "\n",
        "2. Датасет \"Credit Card Fraud Detection\" (Источник: Kaggle)\n",
        "\n",
        "3. Датасет \"Titanic\" (Источник: Kaggle)\n",
        "\n",
        "4. Датасет \"Diabetes Health Indicators\" (Источник: Kaggle)\n",
        "\n",
        "5. Датасет \"Human Activity Recognition\" (Источник: UCI)\n"
      ],
      "metadata": {
        "id": "8L07Ngm43159"
      }
    },
    {
      "cell_type": "markdown",
      "source": [
        "# Полезные функции и документации (в идеале стараться самому искать документации и изучать их)\n",
        "\n",
        "## Документации (дальше уже код с нужными функциями. Открывать, если все печально, тогда лучше еще в чат обсуждения написать и задать вопросы)\n",
        "\n",
        "### 1. Pandas (Data Analysis)\n",
        "- [Official Pandas Documentation](https://pandas.pydata.org/docs/)\n",
        "- [Pandas Cheat Sheet](https://pandas.pydata.org/Pandas_Cheat_Sheet.pdf)\n",
        "\n",
        "### 2. Matplotlib/Seaborn (Visualization)\n",
        "- [Matplotlib Documentation](https://matplotlib.org/stable/contents.html)\n",
        "- [Seaborn Documentation](https://seaborn.pydata.org/)\n",
        "- [Seaborn Examples Gallery](https://seaborn.pydata.org/examples/index.html)\n",
        "\n",
        "### 3. Scikit-learn (Data Splitting)\n",
        "- [train_test_split Docs](https://scikit-learn.org/stable/modules/generated/sklearn.model_selection.train_test_split.html)\n",
        "- [StratifiedShuffleSplit Docs](https://scikit-learn.org/stable/modules/generated/sklearn.model_selection.StratifiedShuffleSplit.html)\n",
        "- [Handling Class Imbalance](https://scikit-learn.org/stable/modules/classes.html#module-sklearn.utils)\n",
        "\n",
        "### 4. Additional Resources\n",
        "- [Kaggle Datasets](https://www.kaggle.com/datasets)\n",
        "- [UCI ML Repository](https://archive.ics.uci.edu/ml/index.php)\n",
        "- [Google Dataset Search](https://datasetsearch.research.google.com/)"
      ],
      "metadata": {
        "id": "8gaTqIxi4QLN"
      }
    },
    {
      "cell_type": "code",
      "source": [
        "# Загрузка данных\n",
        "import pandas as pd\n",
        "df = pd.read_csv('your_dataset.csv')  # для CSV\n",
        "df = pd.read_excel('your_dataset.xlsx')  # для Excel"
      ],
      "metadata": {
        "id": "XDseK91v4-yu"
      },
      "execution_count": null,
      "outputs": []
    },
    {
      "cell_type": "code",
      "source": [
        "# Основной анализ данных\n",
        "df.head(5)  # первые 5 строк\n",
        "df.tail(5)  # последние 5 строк\n",
        "df.info()  # информация о типах данных и пропусках\n",
        "df.describe()  # статистика числовых столбцов\n",
        "df.isnull().sum()  # количество пропусков по столбцам\n",
        "df['target_column'].value_counts()  # распределение классов"
      ],
      "metadata": {
        "id": "7K27FTA75APE"
      },
      "execution_count": null,
      "outputs": []
    },
    {
      "cell_type": "code",
      "source": [
        "# Визуализация\n",
        "import matplotlib.pyplot as plt\n",
        "import seaborn as sns\n",
        "\n",
        "df['target_column'].value_counts().plot(kind='bar')  # барплот распределения классов\n",
        "sns.countplot(x='target_column', data=df)  # альтернатива через seaborn\n",
        "plt.title('Class Distribution')\n",
        "plt.show()"
      ],
      "metadata": {
        "id": "lJMPCkdU5CJU"
      },
      "execution_count": null,
      "outputs": []
    },
    {
      "cell_type": "code",
      "source": [
        "# Разделение данных\n",
        "from sklearn.model_selection import train_test_split, StratifiedShuffleSplit\n",
        "\n",
        "# Обычное разделение\n",
        "X_train, X_test, y_train, y_test = train_test_split(\n",
        "    X, y,\n",
        "    test_size=0.3,\n",
        "    random_state=42\n",
        ")\n",
        "\n",
        "# Стратифицированное разделение\n",
        "X_train, X_test, y_train, y_test = train_test_split(\n",
        "    X, y,\n",
        "    test_size=0.3,\n",
        "    random_state=42,\n",
        "    stratify=y\n",
        ")\n",
        "\n",
        "# Альтернативное стратифицированное разделение\n",
        "sss = StratifiedShuffleSplit(n_splits=1, test_size=0.3, random_state=42)\n",
        "for train_index, test_index in sss.split(X, y):\n",
        "    X_train, X_test = X.iloc[train_index], X.iloc[test_index]\n",
        "    y_train, y_test = y.iloc[train_index], y.iloc[test_index]"
      ],
      "metadata": {
        "id": "jBG3VyZA4UoU"
      },
      "execution_count": null,
      "outputs": []
    }
  ]
}